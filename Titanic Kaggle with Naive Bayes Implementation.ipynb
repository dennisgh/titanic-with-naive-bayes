{
 "cells": [
  {
   "cell_type": "code",
   "execution_count": 1,
   "metadata": {},
   "outputs": [],
   "source": [
    "import pandas as pd\n",
    "import numpy as np\n",
    "import datetime as DT"
   ]
  },
  {
   "cell_type": "code",
   "execution_count": 2,
   "metadata": {},
   "outputs": [],
   "source": [
    "traindata = pd.read_csv('train.csv', index_col='PassengerId', header=0)\n",
    "testdata = pd.read_csv('test.csv', index_col='PassengerId', header=0)\n",
    "sample_submission = pd.read_csv('gender_submission.csv', index_col='PassengerId', header=0)\n",
    "my_submission = sample_submission.copy()\n",
    "my_submission['Survived'] = np.NaN"
   ]
  },
  {
   "cell_type": "markdown",
   "metadata": {},
   "source": [
    "Import all data into Pandas DataFrames. To ensure that my submission complies with all form requirements, set submission to a copy of the sample submission with all outputs set to NaN (for now)."
   ]
  },
  {
   "cell_type": "code",
   "execution_count": 3,
   "metadata": {},
   "outputs": [
    {
     "data": {
      "text/html": [
       "<div>\n",
       "<style scoped>\n",
       "    .dataframe tbody tr th:only-of-type {\n",
       "        vertical-align: middle;\n",
       "    }\n",
       "\n",
       "    .dataframe tbody tr th {\n",
       "        vertical-align: top;\n",
       "    }\n",
       "\n",
       "    .dataframe thead th {\n",
       "        text-align: right;\n",
       "    }\n",
       "</style>\n",
       "<table border=\"1\" class=\"dataframe\">\n",
       "  <thead>\n",
       "    <tr style=\"text-align: right;\">\n",
       "      <th></th>\n",
       "      <th>Survived</th>\n",
       "      <th>Pclass</th>\n",
       "      <th>Name</th>\n",
       "      <th>Sex</th>\n",
       "      <th>Age</th>\n",
       "      <th>SibSp</th>\n",
       "      <th>Parch</th>\n",
       "      <th>Ticket</th>\n",
       "      <th>Fare</th>\n",
       "      <th>Cabin</th>\n",
       "      <th>Embarked</th>\n",
       "    </tr>\n",
       "    <tr>\n",
       "      <th>PassengerId</th>\n",
       "      <th></th>\n",
       "      <th></th>\n",
       "      <th></th>\n",
       "      <th></th>\n",
       "      <th></th>\n",
       "      <th></th>\n",
       "      <th></th>\n",
       "      <th></th>\n",
       "      <th></th>\n",
       "      <th></th>\n",
       "      <th></th>\n",
       "    </tr>\n",
       "  </thead>\n",
       "  <tbody>\n",
       "    <tr>\n",
       "      <th>1</th>\n",
       "      <td>0</td>\n",
       "      <td>3</td>\n",
       "      <td>Braund, Mr. Owen Harris</td>\n",
       "      <td>male</td>\n",
       "      <td>22.0</td>\n",
       "      <td>1</td>\n",
       "      <td>0</td>\n",
       "      <td>A/5 21171</td>\n",
       "      <td>7.2500</td>\n",
       "      <td>NaN</td>\n",
       "      <td>S</td>\n",
       "    </tr>\n",
       "    <tr>\n",
       "      <th>2</th>\n",
       "      <td>1</td>\n",
       "      <td>1</td>\n",
       "      <td>Cumings, Mrs. John Bradley (Florence Briggs Th...</td>\n",
       "      <td>female</td>\n",
       "      <td>38.0</td>\n",
       "      <td>1</td>\n",
       "      <td>0</td>\n",
       "      <td>PC 17599</td>\n",
       "      <td>71.2833</td>\n",
       "      <td>C85</td>\n",
       "      <td>C</td>\n",
       "    </tr>\n",
       "    <tr>\n",
       "      <th>3</th>\n",
       "      <td>1</td>\n",
       "      <td>3</td>\n",
       "      <td>Heikkinen, Miss. Laina</td>\n",
       "      <td>female</td>\n",
       "      <td>26.0</td>\n",
       "      <td>0</td>\n",
       "      <td>0</td>\n",
       "      <td>STON/O2. 3101282</td>\n",
       "      <td>7.9250</td>\n",
       "      <td>NaN</td>\n",
       "      <td>S</td>\n",
       "    </tr>\n",
       "    <tr>\n",
       "      <th>4</th>\n",
       "      <td>1</td>\n",
       "      <td>1</td>\n",
       "      <td>Futrelle, Mrs. Jacques Heath (Lily May Peel)</td>\n",
       "      <td>female</td>\n",
       "      <td>35.0</td>\n",
       "      <td>1</td>\n",
       "      <td>0</td>\n",
       "      <td>113803</td>\n",
       "      <td>53.1000</td>\n",
       "      <td>C123</td>\n",
       "      <td>S</td>\n",
       "    </tr>\n",
       "    <tr>\n",
       "      <th>5</th>\n",
       "      <td>0</td>\n",
       "      <td>3</td>\n",
       "      <td>Allen, Mr. William Henry</td>\n",
       "      <td>male</td>\n",
       "      <td>35.0</td>\n",
       "      <td>0</td>\n",
       "      <td>0</td>\n",
       "      <td>373450</td>\n",
       "      <td>8.0500</td>\n",
       "      <td>NaN</td>\n",
       "      <td>S</td>\n",
       "    </tr>\n",
       "  </tbody>\n",
       "</table>\n",
       "</div>"
      ],
      "text/plain": [
       "             Survived  Pclass  \\\n",
       "PassengerId                     \n",
       "1                   0       3   \n",
       "2                   1       1   \n",
       "3                   1       3   \n",
       "4                   1       1   \n",
       "5                   0       3   \n",
       "\n",
       "                                                          Name     Sex   Age  \\\n",
       "PassengerId                                                                    \n",
       "1                                      Braund, Mr. Owen Harris    male  22.0   \n",
       "2            Cumings, Mrs. John Bradley (Florence Briggs Th...  female  38.0   \n",
       "3                                       Heikkinen, Miss. Laina  female  26.0   \n",
       "4                 Futrelle, Mrs. Jacques Heath (Lily May Peel)  female  35.0   \n",
       "5                                     Allen, Mr. William Henry    male  35.0   \n",
       "\n",
       "             SibSp  Parch            Ticket     Fare Cabin Embarked  \n",
       "PassengerId                                                          \n",
       "1                1      0         A/5 21171   7.2500   NaN        S  \n",
       "2                1      0          PC 17599  71.2833   C85        C  \n",
       "3                0      0  STON/O2. 3101282   7.9250   NaN        S  \n",
       "4                1      0            113803  53.1000  C123        S  \n",
       "5                0      0            373450   8.0500   NaN        S  "
      ]
     },
     "execution_count": 3,
     "metadata": {},
     "output_type": "execute_result"
    }
   ],
   "source": [
    "traindata.head()"
   ]
  },
  {
   "cell_type": "markdown",
   "metadata": {},
   "source": [
    "# Naive Bayes Model (very simplified proof of concept)\n",
    "Implement a Naive Bayes Model to forecast survival:<br><br>\n",
    "The purpose of this is to implement a Naive Bayes Model, not do a rigorous analysis. \n",
    "Therefore, I will only consider 3 factors that I know (from experience with this data set) have a high predictive value, and that are presented very cleanly in the data (no feature generation required).<br>\n",
    "\n",
    "The model trains on DEMISE, rather than SURVIVAL. There are 2x more demise observations which improves model accuracy. Testing shows that this improved model accuracy from 77% to 80% during back-testing, and by 2% on Kaggle.\n",
    "\n",
    "demise_chance_given_Pclass3_Female_under12 =<br>\n",
    "\\[(chance_Pclass3_given_demise <br>x chance_female_given_demise <br>x chance_under12_given_demise)\n",
    "x global_chance_of_demise\\] /<br> \\[chance_Pclass3 x chance_female x chance_under12\\]\n",
    "\n",
    "The four cells below define these variables from df traindata."
   ]
  },
  {
   "cell_type": "code",
   "execution_count": 4,
   "metadata": {},
   "outputs": [
    {
     "name": "stdout",
     "output_type": "stream",
     "text": [
      "global_chance_of_demise 0.6161616161616161\n"
     ]
    }
   ],
   "source": [
    "demise = (traindata['Survived'] == 0)\n",
    "global_chance_of_demise = demise.sum() / traindata.index.size\n",
    "print('global_chance_of_demise', global_chance_of_demise)"
   ]
  },
  {
   "cell_type": "code",
   "execution_count": 14,
   "metadata": {},
   "outputs": [
    {
     "name": "stdout",
     "output_type": "stream",
     "text": [
      "Pclass3_given_demise 0.6775956284153005\n",
      "chance_Pclass3 0.5510662177328844\n"
     ]
    }
   ],
   "source": [
    "Pclass3 = (traindata['Pclass'] == 3)\n",
    "Pclass3_given_demise = (Pclass3 & demise).sum() / demise.sum()\n",
    "print(\"Pclass3_given_demise\", Pclass3_given_demise)\n",
    "chance_Pclass3 = Pclass3.sum() / traindata.index.size\n",
    "print(\"chance_Pclass3\", chance_Pclass3)"
   ]
  },
  {
   "cell_type": "code",
   "execution_count": 6,
   "metadata": {},
   "outputs": [
    {
     "name": "stdout",
     "output_type": "stream",
     "text": [
      "female_given_demise 0.14754098360655737\n",
      "chance_female 0.35241301907968575\n"
     ]
    }
   ],
   "source": [
    "female = (traindata['Sex'] == 'female')\n",
    "female_given_demise = (female & demise).sum() / demise.sum()\n",
    "print(\"female_given_demise %s\" % female_given_demise)\n",
    "chance_female = female.sum() / traindata.index.size\n",
    "print(\"chance_female %s\" % chance_female)"
   ]
  },
  {
   "cell_type": "code",
   "execution_count": 7,
   "metadata": {},
   "outputs": [
    {
     "name": "stdout",
     "output_type": "stream",
     "text": [
      "under12_given_demise: 0.052823315118397086\n",
      "chance_under12: 0.07631874298540965\n"
     ]
    }
   ],
   "source": [
    "under12 = (traindata['Age'] < 12.0)\n",
    "under12_given_demise = (under12 & demise).sum() / demise.sum()\n",
    "print(\"under12_given_demise: %s\" % under12_given_demise)\n",
    "chance_under12 = under12.sum() / traindata.index.size\n",
    "print(\"chance_under12: %s\" % chance_under12)"
   ]
  },
  {
   "cell_type": "code",
   "execution_count": 8,
   "metadata": {},
   "outputs": [],
   "source": [
    "def NaiveBayesPredict(row):\n",
    "    if row['Sex'] == 'female':\n",
    "        N2 = female_given_demise \n",
    "    else: \n",
    "        N2 = 1-female_given_demise  \n",
    "        \n",
    "    if row['Pclass'] == 3:\n",
    "        N1 = Pclass3_given_demise \n",
    "    else: \n",
    "        N1 = 1-Pclass3_given_demise  \n",
    "\n",
    "    if row['Age'] < 12.0:\n",
    "        N3 = under12_given_demise \n",
    "    else: \n",
    "        N3 = 1-under12_given_demise\n",
    "    \n",
    "    N4 = global_chance_of_demise\n",
    "    \n",
    "    if row['Pclass'] == 3:\n",
    "        D1 = chance_Pclass3 \n",
    "    else: \n",
    "        D1 = 1-chance_Pclass3\n",
    "    \n",
    "    if row['Sex'] == 'female':\n",
    "        D2 = chance_female \n",
    "    else: \n",
    "        D2 = 1-chance_female\n",
    "    \n",
    "    if row['Age'] < 12.0:\n",
    "        D3 = chance_under12 \n",
    "    else: \n",
    "        D3 = 1-chance_under12\n",
    "    \n",
    "    return ((N1*N2*N3)*N4)/(D1*D2*D3)"
   ]
  },
  {
   "cell_type": "markdown",
   "metadata": {},
   "source": [
    "# Model test\n",
    "To test this model, we will generate a column \"PredictedSurvival\" in the original training data set.\n",
    "How does our model preduct survival of the \"training\" set?\n",
    "Output value of the cell is the prediction accuracy."
   ]
  },
  {
   "cell_type": "code",
   "execution_count": 9,
   "metadata": {},
   "outputs": [
    {
     "name": "stdout",
     "output_type": "stream",
     "text": [
      "             Survived  PredictedSurvival\n",
      "PassengerId                             \n",
      "1                   0                  0\n",
      "2                   1                  1\n",
      "3                   1                  1\n",
      "4                   1                  1\n",
      "5                   0                  0\n",
      "accuracy: 0.8002244668911336\n"
     ]
    }
   ],
   "source": [
    "#this constant was found through trial-and-error.\n",
    "BAYESIAN_PROB_THRESHOLD_FOR_DEMISE = 0.50\n",
    "\n",
    "\n",
    "def PredictSurvival(dataset, thresh):\n",
    "    return dataset\\\n",
    "    .apply(lambda row: NaiveBayesPredict(row),axis=1)\\\n",
    "    .apply(lambda row: 0 if row > thresh else 1)\n",
    "\n",
    "\n",
    "traindata['PredictedSurvival'] = PredictSurvival(traindata, BAYESIAN_PROB_THRESHOLD_FOR_DEMISE)\n",
    "print(traindata[['Survived', 'PredictedSurvival']].head())\n",
    "\n",
    "\n",
    "accuracy = sum(traindata['Survived'] == traindata['PredictedSurvival'])/traindata.index.size\n",
    "print('accuracy:', accuracy)"
   ]
  },
  {
   "cell_type": "markdown",
   "metadata": {},
   "source": [
    "# Generate predictions\n",
    "\n",
    "We will now use this model to generate our submission to Kaggle."
   ]
  },
  {
   "cell_type": "code",
   "execution_count": 10,
   "metadata": {},
   "outputs": [],
   "source": [
    "my_submission['Survived'] = PredictSurvival(testdata, BAYESIAN_PROB_THRESHOLD_FOR_DEMISE)\n",
    "my_submission.to_csv('Submission DG '+DT.datetime.now().strftime('%d-%b %H:%M')+' .csv')"
   ]
  },
  {
   "cell_type": "markdown",
   "metadata": {},
   "source": [
    "# Model improvements\n",
    "Future improvements to this model:\n",
    "* [DONE] Predict demise, not demise, as that sample size is larger (891 - 342)\n",
    "* Proper EDA, to determine the most predictive factors in the data -- or at least quantify variance% captured with proposed factors.\n",
    "* Further research into modifying Naive Bayes for correlating features (The independence assumption between features used likely does not hold)."
   ]
  },
  {
   "cell_type": "code",
   "execution_count": null,
   "metadata": {},
   "outputs": [],
   "source": []
  }
 ],
 "metadata": {
  "kernelspec": {
   "display_name": "Python 3",
   "language": "python",
   "name": "python3"
  },
  "language_info": {
   "codemirror_mode": {
    "name": "ipython",
    "version": 3
   },
   "file_extension": ".py",
   "mimetype": "text/x-python",
   "name": "python",
   "nbconvert_exporter": "python",
   "pygments_lexer": "ipython3",
   "version": "3.7.1"
  }
 },
 "nbformat": 4,
 "nbformat_minor": 2
}
